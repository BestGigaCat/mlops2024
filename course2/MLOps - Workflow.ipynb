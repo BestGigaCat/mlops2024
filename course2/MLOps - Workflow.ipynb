{
 "cells": [
  {
   "cell_type": "code",
   "execution_count": 1,
   "id": "17dd4a4d",
   "metadata": {},
   "outputs": [
    {
     "name": "stdout",
     "output_type": "stream",
     "text": [
      "Collecting stepfunctions\n",
      "  Downloading stepfunctions-2.3.0.tar.gz (67 kB)\n",
      "     |████████████████████████████████| 67 kB 546 kB/s             \n",
      "\u001b[?25h  Preparing metadata (setup.py) ... \u001b[?25ldone\n",
      "\u001b[?25hRequirement already satisfied: sagemaker>=2.1.0 in /home/ec2-user/anaconda3/envs/python3/lib/python3.6/site-packages (from stepfunctions) (2.116.0)\n",
      "Requirement already satisfied: boto3>=1.14.38 in /home/ec2-user/anaconda3/envs/python3/lib/python3.6/site-packages (from stepfunctions) (1.23.10)\n",
      "Requirement already satisfied: pyyaml in /home/ec2-user/anaconda3/envs/python3/lib/python3.6/site-packages (from stepfunctions) (5.4.1)\n",
      "Requirement already satisfied: s3transfer<0.6.0,>=0.5.0 in /home/ec2-user/anaconda3/envs/python3/lib/python3.6/site-packages (from boto3>=1.14.38->stepfunctions) (0.5.0)\n",
      "Requirement already satisfied: botocore<1.27.0,>=1.26.10 in /home/ec2-user/anaconda3/envs/python3/lib/python3.6/site-packages (from boto3>=1.14.38->stepfunctions) (1.26.10)\n",
      "Requirement already satisfied: jmespath<2.0.0,>=0.7.1 in /home/ec2-user/anaconda3/envs/python3/lib/python3.6/site-packages (from boto3>=1.14.38->stepfunctions) (0.10.0)\n",
      "Requirement already satisfied: numpy<2.0,>=1.9.0 in /home/ec2-user/anaconda3/envs/python3/lib/python3.6/site-packages (from sagemaker>=2.1.0->stepfunctions) (1.19.5)\n",
      "Requirement already satisfied: smdebug-rulesconfig==1.0.1 in /home/ec2-user/anaconda3/envs/python3/lib/python3.6/site-packages (from sagemaker>=2.1.0->stepfunctions) (1.0.1)\n",
      "Requirement already satisfied: protobuf<4.0,>=3.1 in /home/ec2-user/anaconda3/envs/python3/lib/python3.6/site-packages (from sagemaker>=2.1.0->stepfunctions) (3.15.2)\n",
      "Requirement already satisfied: pathos in /home/ec2-user/anaconda3/envs/python3/lib/python3.6/site-packages (from sagemaker>=2.1.0->stepfunctions) (0.2.8)\n",
      "Requirement already satisfied: protobuf3-to-dict<1.0,>=0.1.5 in /home/ec2-user/anaconda3/envs/python3/lib/python3.6/site-packages (from sagemaker>=2.1.0->stepfunctions) (0.1.5)\n",
      "Requirement already satisfied: importlib-metadata<5.0,>=1.4.0 in /home/ec2-user/anaconda3/envs/python3/lib/python3.6/site-packages (from sagemaker>=2.1.0->stepfunctions) (3.7.0)\n",
      "Requirement already satisfied: packaging>=20.0 in /home/ec2-user/anaconda3/envs/python3/lib/python3.6/site-packages (from sagemaker>=2.1.0->stepfunctions) (21.3)\n",
      "Requirement already satisfied: attrs<23,>=20.3.0 in /home/ec2-user/anaconda3/envs/python3/lib/python3.6/site-packages (from sagemaker>=2.1.0->stepfunctions) (20.3.0)\n",
      "Requirement already satisfied: schema in /home/ec2-user/anaconda3/envs/python3/lib/python3.6/site-packages (from sagemaker>=2.1.0->stepfunctions) (0.7.5)\n",
      "Requirement already satisfied: pandas in /home/ec2-user/anaconda3/envs/python3/lib/python3.6/site-packages (from sagemaker>=2.1.0->stepfunctions) (1.1.5)\n",
      "Requirement already satisfied: google-pasta in /home/ec2-user/anaconda3/envs/python3/lib/python3.6/site-packages (from sagemaker>=2.1.0->stepfunctions) (0.2.0)\n",
      "Requirement already satisfied: urllib3<1.27,>=1.25.4 in /home/ec2-user/anaconda3/envs/python3/lib/python3.6/site-packages (from botocore<1.27.0,>=1.26.10->boto3>=1.14.38->stepfunctions) (1.26.8)\n",
      "Requirement already satisfied: python-dateutil<3.0.0,>=2.1 in /home/ec2-user/anaconda3/envs/python3/lib/python3.6/site-packages (from botocore<1.27.0,>=1.26.10->boto3>=1.14.38->stepfunctions) (2.8.1)\n",
      "Requirement already satisfied: zipp>=0.5 in /home/ec2-user/anaconda3/envs/python3/lib/python3.6/site-packages (from importlib-metadata<5.0,>=1.4.0->sagemaker>=2.1.0->stepfunctions) (3.4.0)\n",
      "Requirement already satisfied: typing-extensions>=3.6.4 in /home/ec2-user/anaconda3/envs/python3/lib/python3.6/site-packages (from importlib-metadata<5.0,>=1.4.0->sagemaker>=2.1.0->stepfunctions) (4.0.1)\n",
      "Requirement already satisfied: pyparsing!=3.0.5,>=2.0.2 in /home/ec2-user/anaconda3/envs/python3/lib/python3.6/site-packages (from packaging>=20.0->sagemaker>=2.1.0->stepfunctions) (2.4.7)\n",
      "Requirement already satisfied: six>=1.9 in /home/ec2-user/anaconda3/envs/python3/lib/python3.6/site-packages (from protobuf<4.0,>=3.1->sagemaker>=2.1.0->stepfunctions) (1.15.0)\n",
      "Requirement already satisfied: pytz>=2017.2 in /home/ec2-user/anaconda3/envs/python3/lib/python3.6/site-packages (from pandas->sagemaker>=2.1.0->stepfunctions) (2021.1)\n",
      "Requirement already satisfied: pox>=0.3.0 in /home/ec2-user/anaconda3/envs/python3/lib/python3.6/site-packages (from pathos->sagemaker>=2.1.0->stepfunctions) (0.3.0)\n",
      "Requirement already satisfied: ppft>=1.6.6.4 in /home/ec2-user/anaconda3/envs/python3/lib/python3.6/site-packages (from pathos->sagemaker>=2.1.0->stepfunctions) (1.6.6.4)\n",
      "Requirement already satisfied: dill>=0.3.4 in /home/ec2-user/anaconda3/envs/python3/lib/python3.6/site-packages (from pathos->sagemaker>=2.1.0->stepfunctions) (0.3.4)\n",
      "Requirement already satisfied: multiprocess>=0.70.12 in /home/ec2-user/anaconda3/envs/python3/lib/python3.6/site-packages (from pathos->sagemaker>=2.1.0->stepfunctions) (0.70.12.2)\n",
      "Requirement already satisfied: contextlib2>=0.5.5 in /home/ec2-user/anaconda3/envs/python3/lib/python3.6/site-packages (from schema->sagemaker>=2.1.0->stepfunctions) (0.6.0.post1)\n",
      "Building wheels for collected packages: stepfunctions\n",
      "  Building wheel for stepfunctions (setup.py) ... \u001b[?25ldone\n",
      "\u001b[?25h  Created wheel for stepfunctions: filename=stepfunctions-2.3.0-py2.py3-none-any.whl size=78153 sha256=ddbfa3b8d8e8bfd7e29acf9b94e8171d326b359fc0acdb44e01334798c9623b3\n",
      "  Stored in directory: /home/ec2-user/.cache/pip/wheels/4b/75/8e/166fad54033824bc17b9118d091d34eaab1837565aa5f0f57e\n",
      "Successfully built stepfunctions\n",
      "Installing collected packages: stepfunctions\n",
      "Successfully installed stepfunctions-2.3.0\n"
     ]
    }
   ],
   "source": [
    "import sys\n",
    "\n",
    "!{sys.executable} -m pip install --upgrade stepfunctions"
   ]
  },
  {
   "cell_type": "code",
   "execution_count": 2,
   "id": "a048f281",
   "metadata": {},
   "outputs": [],
   "source": [
    "import uuid\n",
    "import logging\n",
    "import stepfunctions\n",
    "import boto3\n",
    "import sagemaker\n",
    "\n",
    "from sagemaker.amazon.amazon_estimator import image_uris\n",
    "from sagemaker.inputs import TrainingInput\n",
    "from sagemaker.s3 import S3Uploader\n",
    "from stepfunctions import steps\n",
    "from stepfunctions.steps import TrainingStep, ModelStep\n",
    "from stepfunctions.inputs import ExecutionInput\n",
    "from stepfunctions.workflow import Workflow\n",
    "\n",
    "# Set up sagemaker connection session\n",
    "session = sagemaker.Session()\n",
    "# Set up logging level\n",
    "stepfunctions.set_stream_logger(level=logging.INFO)\n",
    "\n",
    "# Set up AWS python SDK session\n",
    "region = boto3.Session().region_name\n",
    "# Set up S3 bucket location \n",
    "bucket = session.default_bucket()\n",
    "# Generate random UUID for this run\n",
    "id = uuid.uuid4().hex\n",
    "\n",
    "# Create a unique name for the AWS Glue job to be created. If you change the\n",
    "# default name, you may need to change the Step Functions execution role.\n",
    "job_name = \"glue-customer-churn-etl-{}\".format(id)\n",
    "\n",
    "# Create a unique name for the AWS Lambda function to be created. If you change\n",
    "# the default name, you may need to change the Step Functions execution role.\n",
    "function_name = \"query-training-status-{}\".format(id)"
   ]
  },
  {
   "cell_type": "code",
   "execution_count": 3,
   "id": "633d7bdb",
   "metadata": {},
   "outputs": [],
   "source": [
    "# paste the role'ARN we created for this course \n",
    "workflow_execution_role = \"arn:aws:iam::846634201516:role/MLOpsCourseRole\"\n",
    "\n",
    "# SageMaker Execution Role\n",
    "# You can use sagemaker.get_execution_role() if running inside sagemaker's notebook instance\n",
    "sagemaker_execution_role = (\n",
    "    sagemaker.get_execution_role()\n",
    ")"
   ]
  },
  {
   "cell_type": "code",
   "execution_count": 4,
   "id": "085341b7",
   "metadata": {},
   "outputs": [
    {
     "name": "stdout",
     "output_type": "stream",
     "text": [
      "sagemaker-us-west-2-846634201516\n"
     ]
    }
   ],
   "source": [
    "session = sagemaker.Session()\n",
    "# In the case you cannot get the right default bucket, you can specify a S3 location you created manually\n",
    "bucket = session.default_bucket()\n",
    "print(bucket)"
   ]
  },
  {
   "cell_type": "code",
   "execution_count": 5,
   "id": "43f58a5a",
   "metadata": {},
   "outputs": [],
   "source": [
    "# Same role we created in homework 1\n",
    "glue_role = \"arn:aws:iam::846634201516:role/MLOpsCourseRole\""
   ]
  },
  {
   "cell_type": "code",
   "execution_count": 6,
   "id": "59792cd8",
   "metadata": {},
   "outputs": [],
   "source": [
    "# Same role we created in homework 1\n",
    "lambda_role = \"arn:aws:iam::846634201516:role/MLOpsCourseRole\""
   ]
  },
  {
   "cell_type": "code",
   "execution_count": 7,
   "id": "3851e516",
   "metadata": {},
   "outputs": [],
   "source": [
    "# Name anything you want\n",
    "project_name = \"ml_deploy\"\n",
    "\n",
    "# Copy customer churn csv data into this notebook instance\n",
    "# Then use the following code to copy your local CSV to S3 location for model training\n",
    "data_source = S3Uploader.upload(\n",
    "    local_path=\"./data/customer-churn.csv\",\n",
    "    desired_s3_uri=\"s3://{}/{}\".format(bucket, project_name),\n",
    "    sagemaker_session=session,\n",
    ")\n",
    "\n",
    "train_prefix = \"train\"\n",
    "val_prefix = \"validation\"\n",
    "\n",
    "# Train and validation dataset location in S3\n",
    "train_data = \"s3://{}/{}/{}/\".format(bucket, project_name, train_prefix)\n",
    "validation_data = \"s3://{}/{}/{}/\".format(bucket, project_name, val_prefix)"
   ]
  },
  {
   "cell_type": "code",
   "execution_count": 8,
   "id": "e71d9886",
   "metadata": {},
   "outputs": [
    {
     "name": "stderr",
     "output_type": "stream",
     "text": [
      "/home/ec2-user/anaconda3/envs/python3/lib/python3.6/site-packages/boto3/compat.py:88: PythonDeprecationWarning: Boto3 will no longer support Python 3.6 starting May 30, 2022. To continue receiving service updates, bug fixes, and security updates please upgrade to Python 3.7 or later. More information can be found here: https://aws.amazon.com/blogs/developer/python-support-policy-updates-for-aws-sdks-and-tools/\n",
      "  warnings.warn(warning, PythonDeprecationWarning)\n"
     ]
    }
   ],
   "source": [
    "# Copy glue_etl.py to notebook instance\n",
    "# Upload glue script to S3 bucket\n",
    "glue_script_location = S3Uploader.upload(\n",
    "    local_path=\"./code/glue_etl.py\",\n",
    "    desired_s3_uri=\"s3://{}/{}\".format(bucket, project_name),\n",
    "    sagemaker_session=session,\n",
    ")\n",
    "glue_client = boto3.client(\"glue\")\n",
    "\n",
    "# create a ETL job in Glue to split training and validation dataset\n",
    "response = glue_client.create_job(\n",
    "    Name=job_name,\n",
    "    Description=\"PySpark job to extract the data and split in to training and validation data sets\",\n",
    "    Role=glue_role,  # you can pass your existing AWS Glue role here if you have used Glue before\n",
    "    ExecutionProperty={\"MaxConcurrentRuns\": 2},\n",
    "    Command={\"Name\": \"glueetl\", \"ScriptLocation\": glue_script_location, \"PythonVersion\": \"3\"},\n",
    "    DefaultArguments={\"--job-language\": \"python\"},\n",
    "    GlueVersion=\"3.0\",\n",
    "    WorkerType=\"Standard\",\n",
    "    NumberOfWorkers=2,\n",
    "    Timeout=60,\n",
    ")"
   ]
  },
  {
   "cell_type": "code",
   "execution_count": 9,
   "id": "fae71520",
   "metadata": {},
   "outputs": [
    {
     "data": {
      "text/plain": [
       "'s3://sagemaker-us-west-2-846634201516/ml_deploy/query_training_status.zip'"
      ]
     },
     "execution_count": 9,
     "metadata": {},
     "output_type": "execute_result"
    }
   ],
   "source": [
    "import zipfile\n",
    "\n",
    "# Model validation pipeline\n",
    "# Copy query_training_status.py to lcoal instance notebook\n",
    "zip_name = \"query_training_status.zip\"\n",
    "lambda_source_code = \"./code/query_training_status.py\"\n",
    "\n",
    "# Zip the script\n",
    "zf = zipfile.ZipFile(zip_name, mode=\"w\")\n",
    "zf.write(lambda_source_code, arcname=lambda_source_code.split(\"/\")[-1])\n",
    "zf.close()\n",
    "\n",
    "# Copy zipped script to S3 for lambda use\n",
    "S3Uploader.upload(\n",
    "    local_path=zip_name,\n",
    "    desired_s3_uri=\"s3://{}/{}\".format(bucket, project_name),\n",
    "    sagemaker_session=session,\n",
    ")"
   ]
  },
  {
   "cell_type": "code",
   "execution_count": 11,
   "id": "d97c8909",
   "metadata": {},
   "outputs": [],
   "source": [
    "# Create lambda client\n",
    "lambda_client = boto3.client(\"lambda\")\n",
    "\n",
    "# Create a lambda function for model result validation\n",
    "response = lambda_client.create_function(\n",
    "    FunctionName=function_name,\n",
    "    Runtime=\"python3.9\",\n",
    "    Role=lambda_role,\n",
    "    Handler=\"query_training_status.lambda_handler\",\n",
    "    Code={\"S3Bucket\": bucket, \"S3Key\": \"{}/{}\".format(project_name, zip_name)},\n",
    "    Description=\"Queries a SageMaker training job and return the results.\",\n",
    "    Timeout=15,\n",
    "    MemorySize=128,\n",
    ")"
   ]
  },
  {
   "cell_type": "code",
   "execution_count": 12,
   "id": "5ebf8833",
   "metadata": {},
   "outputs": [],
   "source": [
    "# Retrive XGBoost algorithm container for training purpose\n",
    "container = sagemaker.image_uris.retrieve(\"xgboost\", region, \"latest\")\n",
    "\n",
    "# Create XGBoost estimator (model) with m4.xlarge instance type\n",
    "xgb = sagemaker.estimator.Estimator(\n",
    "    container,\n",
    "    sagemaker_execution_role,\n",
    "    train_instance_count=1,\n",
    "    train_instance_type=\"ml.m4.xlarge\",\n",
    "    output_path=\"s3://{}/{}/output\".format(bucket, project_name),\n",
    ")\n",
    "\n",
    "# Set initial hyperparameter configurations\n",
    "xgb.set_hyperparameters(\n",
    "    max_depth=5,\n",
    "    eta=0.2,\n",
    "    gamma=4,\n",
    "    min_child_weight=6,\n",
    "    subsample=0.8,\n",
    "    objective=\"binary:logistic\",\n",
    "    eval_metric=\"error\",\n",
    "    num_round=100,\n",
    ")"
   ]
  },
  {
   "cell_type": "code",
   "execution_count": 13,
   "id": "01db9f4d",
   "metadata": {},
   "outputs": [],
   "source": [
    "# Specify model training execution configurations\n",
    "# SageMaker expects unique names for each job, model and endpoint.\n",
    "# If these names are not unique the execution will fail.\n",
    "execution_input = ExecutionInput(\n",
    "    schema={\n",
    "        \"TrainingJobName\": str,\n",
    "        \"GlueJobName\": str,\n",
    "        \"ModelName\": str,\n",
    "        \"EndpointName\": str,\n",
    "        \"LambdaFunctionName\": str,\n",
    "    }\n",
    ")"
   ]
  },
  {
   "cell_type": "code",
   "execution_count": 14,
   "id": "98ce6c9f",
   "metadata": {},
   "outputs": [],
   "source": [
    "# Start glue data ETL job run\n",
    "etl_step = steps.GlueStartJobRunStep(\n",
    "    \"Extract, Transform, Load\",\n",
    "    parameters={\n",
    "        \"JobName\": execution_input[\"GlueJobName\"],\n",
    "        \"Arguments\": {\n",
    "            \"--S3_SOURCE\": data_source,\n",
    "            \"--S3_DEST\": \"s3a://{}/{}/\".format(bucket, project_name),\n",
    "            \"--TRAIN_KEY\": train_prefix + \"/\",\n",
    "            \"--VAL_KEY\": val_prefix + \"/\",\n",
    "        },\n",
    "    },\n",
    ")"
   ]
  },
  {
   "cell_type": "code",
   "execution_count": 15,
   "id": "c518a0ab",
   "metadata": {},
   "outputs": [],
   "source": [
    "# Define model training setp\n",
    "training_step = steps.TrainingStep(\n",
    "    \"Model Training\",\n",
    "    estimator=xgb,\n",
    "    data={\n",
    "        \"train\": TrainingInput(train_data, content_type=\"text/csv\"),\n",
    "        \"validation\": TrainingInput(validation_data, content_type=\"text/csv\"),\n",
    "    },\n",
    "    job_name=execution_input[\"TrainingJobName\"],\n",
    "    wait_for_completion=True,\n",
    ")"
   ]
  },
  {
   "cell_type": "code",
   "execution_count": 16,
   "id": "0c851ca7",
   "metadata": {},
   "outputs": [],
   "source": [
    "# Define model store / register step\n",
    "model_step = steps.ModelStep(\n",
    "    \"Save Model\",\n",
    "    model=training_step.get_expected_model(),\n",
    "    model_name=execution_input[\"ModelName\"],\n",
    "    result_path=\"$.ModelStepResults\",\n",
    ")"
   ]
  },
  {
   "cell_type": "code",
   "execution_count": 17,
   "id": "4a0cfa03",
   "metadata": {},
   "outputs": [],
   "source": [
    "# Define lambda for model validation step\n",
    "lambda_step = steps.compute.LambdaStep(\n",
    "    \"Query Training Results\",\n",
    "    parameters={\n",
    "        \"FunctionName\": execution_input[\"LambdaFunctionName\"],\n",
    "        \"Payload\": {\"TrainingJobName.$\": \"$.TrainingJobName\"},\n",
    "    },\n",
    ")"
   ]
  },
  {
   "cell_type": "code",
   "execution_count": 18,
   "id": "702abe5b",
   "metadata": {},
   "outputs": [],
   "source": [
    "# Name accuracy check in AWS StepFunction\n",
    "check_accuracy_step = steps.states.Choice(\"Accuracy > 90%\")"
   ]
  },
  {
   "cell_type": "code",
   "execution_count": 19,
   "id": "9444c825",
   "metadata": {},
   "outputs": [],
   "source": [
    "# Configure model deployment endpoint\n",
    "endpoint_config_step = steps.EndpointConfigStep(\n",
    "    \"Create Model Endpoint Config\",\n",
    "    endpoint_config_name=execution_input[\"ModelName\"],\n",
    "    model_name=execution_input[\"ModelName\"],\n",
    "    initial_instance_count=1,\n",
    "    instance_type=\"ml.m4.xlarge\",\n",
    ")"
   ]
  },
  {
   "cell_type": "code",
   "execution_count": 20,
   "id": "ebbf8e2f",
   "metadata": {},
   "outputs": [],
   "source": [
    "# Update Model Endpoint\n",
    "endpoint_step = steps.EndpointStep(\n",
    "    \"Update Model Endpoint\",\n",
    "    endpoint_name=execution_input[\"EndpointName\"],\n",
    "    endpoint_config_name=execution_input[\"ModelName\"],\n",
    "    # If you want continuous training in existing pipeline, need to modify this to true\n",
    "    update=False,\n",
    ")"
   ]
  },
  {
   "cell_type": "code",
   "execution_count": 21,
   "id": "1a14f8d5",
   "metadata": {},
   "outputs": [],
   "source": [
    "# Name fail critera in AWS StepFunction\n",
    "fail_step = steps.states.Fail(\n",
    "    \"Model Accuracy Too Low\", comment=\"Validation accuracy lower than threshold\"\n",
    ")"
   ]
  },
  {
   "cell_type": "code",
   "execution_count": 22,
   "id": "d89a444a",
   "metadata": {},
   "outputs": [],
   "source": [
    "# Define logic for model validation\n",
    "threshold_rule = steps.choice_rule.ChoiceRule.NumericLessThan(\n",
    "    variable=lambda_step.output()[\"Payload\"][\"trainingMetrics\"][0][\"Value\"], value=0.1\n",
    ")\n",
    "\n",
    "check_accuracy_step.add_choice(rule=threshold_rule, next_step=endpoint_config_step)\n",
    "check_accuracy_step.default_choice(next_step=fail_step)"
   ]
  },
  {
   "cell_type": "code",
   "execution_count": 23,
   "id": "bd550d55",
   "metadata": {},
   "outputs": [
    {
     "data": {
      "text/plain": [
       "Update Model Endpoint EndpointStep(resource='arn:aws:states:::sagemaker:createEndpoint', parameters={'EndpointConfigName': <stepfunctions.inputs.placeholders.ExecutionInput object at 0x7f8754c5b208>, 'EndpointName': <stepfunctions.inputs.placeholders.ExecutionInput object at 0x7f8754c5b390>}, type='Task')"
      ]
     },
     "execution_count": 23,
     "metadata": {},
     "output_type": "execute_result"
    }
   ],
   "source": [
    "# Define step function end\n",
    "endpoint_config_step.next(endpoint_step)"
   ]
  },
  {
   "cell_type": "code",
   "execution_count": 24,
   "id": "f2593ed9",
   "metadata": {},
   "outputs": [],
   "source": [
    "# Chain model training automation as a pipeline\n",
    "workflow_definition = steps.Chain(\n",
    "    [etl_step, training_step, model_step, lambda_step, check_accuracy_step]\n",
    ")"
   ]
  },
  {
   "cell_type": "code",
   "execution_count": 25,
   "id": "39442785",
   "metadata": {},
   "outputs": [],
   "source": [
    "# Define workflow in AWS StepFunction\n",
    "workflow = Workflow(\n",
    "    name=\"MyInferenceRoutine_{}\".format(id),\n",
    "    definition=workflow_definition,\n",
    "    role=workflow_execution_role,\n",
    "    execution_input=execution_input,\n",
    ")"
   ]
  },
  {
   "cell_type": "code",
   "execution_count": 26,
   "id": "58cb7575",
   "metadata": {},
   "outputs": [
    {
     "data": {
      "text/html": [
       "\n",
       "<link rel=\"stylesheet\" type=\"text/css\" href=\"https://do0of8uwbahzz.cloudfront.net/graph.css\">\n",
       "<div id=\"graph-116\" class=\"workflowgraph\">\n",
       "    \n",
       "    <svg></svg>\n",
       "    \n",
       "</div>\n",
       "\n",
       "<script type=\"text/javascript\">\n",
       "\n",
       "require.config({\n",
       "    paths: {\n",
       "        sfn: \"https://do0of8uwbahzz.cloudfront.net/sfn\",\n",
       "    }\n",
       "});\n",
       "\n",
       "require(['sfn'], function(sfn) {\n",
       "    var element = document.getElementById('graph-116')\n",
       "\n",
       "    var options = {\n",
       "        width: parseFloat(getComputedStyle(element, null).width.replace(\"px\", \"\")),\n",
       "        height: 600,\n",
       "        layout: 'LR',\n",
       "        resizeHeight: true\n",
       "    };\n",
       "\n",
       "    var definition = {\"StartAt\": \"Extract, Transform, Load\", \"States\": {\"Extract, Transform, Load\": {\"Parameters\": {\"JobName.$\": \"$$.Execution.Input['GlueJobName']\", \"Arguments\": {\"--S3_SOURCE\": \"s3://sagemaker-us-west-2-846634201516/ml_deploy/customer-churn.csv\", \"--S3_DEST\": \"s3a://sagemaker-us-west-2-846634201516/ml_deploy/\", \"--TRAIN_KEY\": \"train/\", \"--VAL_KEY\": \"validation/\"}}, \"Resource\": \"arn:aws:states:::glue:startJobRun.sync\", \"Type\": \"Task\", \"Next\": \"Model Training\"}, \"Model Training\": {\"Resource\": \"arn:aws:states:::sagemaker:createTrainingJob.sync\", \"Parameters\": {\"AlgorithmSpecification\": {\"TrainingImage\": \"433757028032.dkr.ecr.us-west-2.amazonaws.com/xgboost:latest\", \"TrainingInputMode\": \"File\"}, \"OutputDataConfig\": {\"S3OutputPath\": \"s3://sagemaker-us-west-2-846634201516/ml_deploy/output\"}, \"StoppingCondition\": {\"MaxRuntimeInSeconds\": 86400}, \"ResourceConfig\": {\"VolumeSizeInGB\": 30, \"InstanceCount\": 1, \"InstanceType\": \"ml.m4.xlarge\"}, \"RoleArn\": \"arn:aws:iam::846634201516:role/AmazonMWAA-SageMaker-Role\", \"InputDataConfig\": [{\"DataSource\": {\"S3DataSource\": {\"S3DataType\": \"S3Prefix\", \"S3Uri\": \"s3://sagemaker-us-west-2-846634201516/ml_deploy/train/\", \"S3DataDistributionType\": \"FullyReplicated\"}}, \"ContentType\": \"text/csv\", \"ChannelName\": \"train\"}, {\"DataSource\": {\"S3DataSource\": {\"S3DataType\": \"S3Prefix\", \"S3Uri\": \"s3://sagemaker-us-west-2-846634201516/ml_deploy/validation/\", \"S3DataDistributionType\": \"FullyReplicated\"}}, \"ContentType\": \"text/csv\", \"ChannelName\": \"validation\"}], \"HyperParameters\": {\"max_depth\": \"5\", \"eta\": \"0.2\", \"gamma\": \"4\", \"min_child_weight\": \"6\", \"subsample\": \"0.8\", \"objective\": \"binary:logistic\", \"eval_metric\": \"error\", \"num_round\": \"100\"}, \"TrainingJobName.$\": \"$$.Execution.Input['TrainingJobName']\", \"DebugHookConfig\": {\"S3OutputPath\": \"s3://sagemaker-us-west-2-846634201516/ml_deploy/output\"}}, \"Type\": \"Task\", \"Next\": \"Save Model\"}, \"Save Model\": {\"ResultPath\": \"$.ModelStepResults\", \"Parameters\": {\"ExecutionRoleArn\": \"arn:aws:iam::846634201516:role/AmazonMWAA-SageMaker-Role\", \"ModelName.$\": \"$$.Execution.Input['ModelName']\", \"PrimaryContainer\": {\"Environment\": {}, \"Image\": \"433757028032.dkr.ecr.us-west-2.amazonaws.com/xgboost:latest\", \"ModelDataUrl.$\": \"$['ModelArtifacts']['S3ModelArtifacts']\"}}, \"Resource\": \"arn:aws:states:::sagemaker:createModel\", \"Type\": \"Task\", \"Next\": \"Query Training Results\"}, \"Query Training Results\": {\"Parameters\": {\"FunctionName.$\": \"$$.Execution.Input['LambdaFunctionName']\", \"Payload\": {\"TrainingJobName.$\": \"$.TrainingJobName\"}}, \"Resource\": \"arn:aws:states:::lambda:invoke\", \"Type\": \"Task\", \"Next\": \"Accuracy > 90%\"}, \"Accuracy > 90%\": {\"Type\": \"Choice\", \"Choices\": [{\"Variable\": \"$['Payload']['trainingMetrics'][0]['Value']\", \"NumericLessThan\": 0.1, \"Next\": \"Create Model Endpoint Config\"}], \"Default\": \"Model Accuracy Too Low\"}, \"Model Accuracy Too Low\": {\"Comment\": \"Validation accuracy lower than threshold\", \"Type\": \"Fail\"}, \"Create Model Endpoint Config\": {\"Resource\": \"arn:aws:states:::sagemaker:createEndpointConfig\", \"Parameters\": {\"EndpointConfigName.$\": \"$$.Execution.Input['ModelName']\", \"ProductionVariants\": [{\"InitialInstanceCount\": 1, \"InstanceType\": \"ml.m4.xlarge\", \"ModelName.$\": \"$$.Execution.Input['ModelName']\", \"VariantName\": \"AllTraffic\"}]}, \"Type\": \"Task\", \"Next\": \"Update Model Endpoint\"}, \"Update Model Endpoint\": {\"Resource\": \"arn:aws:states:::sagemaker:createEndpoint\", \"Parameters\": {\"EndpointConfigName.$\": \"$$.Execution.Input['ModelName']\", \"EndpointName.$\": \"$$.Execution.Input['EndpointName']\"}, \"Type\": \"Task\", \"End\": true}}};\n",
       "    var elementId = '#graph-116';\n",
       "\n",
       "    var graph = new sfn.StateMachineGraph(definition, elementId, options);\n",
       "    graph.render();\n",
       "});\n",
       "\n",
       "</script>\n"
      ],
      "text/plain": [
       "<IPython.core.display.HTML object>"
      ]
     },
     "execution_count": 26,
     "metadata": {},
     "output_type": "execute_result"
    }
   ],
   "source": [
    "# Genearate DAG in graph in AWS StepFunction\n",
    "workflow.render_graph()"
   ]
  },
  {
   "cell_type": "code",
   "execution_count": 27,
   "id": "6d894aad",
   "metadata": {},
   "outputs": [
    {
     "name": "stdout",
     "output_type": "stream",
     "text": [
      "\u001b[32m[INFO] Workflow created successfully on AWS Step Functions.\u001b[0m\n"
     ]
    },
    {
     "data": {
      "text/plain": [
       "'arn:aws:states:us-west-2:846634201516:stateMachine:MyInferenceRoutine_1efcdd1db5e74f7d946f01f3ec4fcbaa'"
      ]
     },
     "execution_count": 27,
     "metadata": {},
     "output_type": "execute_result"
    }
   ],
   "source": [
    "# Create workflow in AWS StepFunction\n",
    "workflow.create()"
   ]
  },
  {
   "cell_type": "code",
   "execution_count": 28,
   "id": "12c57fb2",
   "metadata": {},
   "outputs": [
    {
     "name": "stdout",
     "output_type": "stream",
     "text": [
      "\u001b[32m[INFO] Workflow execution started successfully on AWS Step Functions.\u001b[0m\n"
     ]
    }
   ],
   "source": [
    "# Execute training automation workflow and pass parameters\n",
    "execution = workflow.execute(\n",
    "    inputs={\n",
    "        \"TrainingJobName\": \"regression-{}\".format(id),  # Each Sagemaker Job requires a unique name,\n",
    "        \"GlueJobName\": job_name,\n",
    "        \"ModelName\": \"CustomerChurn-{}\".format(id),  # Each Model requires a unique name,\n",
    "        \"EndpointName\": \"CustomerChurn\",  # Each Endpoint requires a unique name\n",
    "        \"LambdaFunctionName\": function_name,\n",
    "    }\n",
    ")"
   ]
  },
  {
   "cell_type": "code",
   "execution_count": 29,
   "id": "401797c1",
   "metadata": {},
   "outputs": [
    {
     "data": {
      "text/html": [
       "\n",
       "<link rel=\"stylesheet\" type=\"text/css\" href=\"https://do0of8uwbahzz.cloudfront.net/graph.css\">\n",
       "<div id=\"graph-126\" class=\"workflowgraph\">\n",
       "    \n",
       "    <style>\n",
       "        .graph-legend ul {\n",
       "            list-style-type: none;\n",
       "            padding: 10px;\n",
       "            padding-left: 0;\n",
       "            margin: 0;\n",
       "            position: absolute;\n",
       "            top: 0;\n",
       "            background: transparent;\n",
       "        }\n",
       "\n",
       "        .graph-legend li {\n",
       "            margin-left: 10px;\n",
       "            display: inline-block;\n",
       "        }\n",
       "\n",
       "        .graph-legend li > div {\n",
       "            width: 10px;\n",
       "            height: 10px;\n",
       "            display: inline-block;\n",
       "        }\n",
       "\n",
       "        .graph-legend .success { background-color: #2BD62E }\n",
       "        .graph-legend .failed { background-color: #DE322F }\n",
       "        .graph-legend .cancelled { background-color: #DDDDDD }\n",
       "        .graph-legend .in-progress { background-color: #53C9ED }\n",
       "        .graph-legend .caught-error { background-color: #FFA500 }\n",
       "    </style>\n",
       "    <div class=\"graph-legend\">\n",
       "        <ul>\n",
       "            <li>\n",
       "                <div class=\"success\"></div>\n",
       "                <span>Success</span>\n",
       "            </li>\n",
       "            <li>\n",
       "                <div class=\"failed\"></div>\n",
       "                <span>Failed</span>\n",
       "            </li>\n",
       "            <li>\n",
       "                <div class=\"cancelled\"></div>\n",
       "                <span>Cancelled</span>\n",
       "            </li>\n",
       "            <li>\n",
       "                <div class=\"in-progress\"></div>\n",
       "                <span>In Progress</span>\n",
       "            </li>\n",
       "            <li>\n",
       "                <div class=\"caught-error\"></div>\n",
       "                <span>Caught Error</span>\n",
       "            </li>\n",
       "        </ul>\n",
       "    </div>\n",
       "\n",
       "    <svg></svg>\n",
       "    <a href=\"https://console.aws.amazon.com/states/home?region=us-west-2#/executions/details/arn:aws:states:us-west-2:846634201516:execution:MyInferenceRoutine_1efcdd1db5e74f7d946f01f3ec4fcbaa:261bd9b5-fac0-4e6e-a9c0-2e8b4b87bd1e\" target=\"_blank\"> Inspect in AWS Step Functions </a>\n",
       "</div>\n",
       "\n",
       "<script type=\"text/javascript\">\n",
       "\n",
       "require.config({\n",
       "    paths: {\n",
       "        sfn: \"https://do0of8uwbahzz.cloudfront.net/sfn\",\n",
       "    }\n",
       "});\n",
       "\n",
       "require(['sfn'], function(sfn) {\n",
       "    var element = document.getElementById('graph-126')\n",
       "\n",
       "    var options = {\n",
       "        width: parseFloat(getComputedStyle(element, null).width.replace(\"px\", \"\")),\n",
       "        height: 1000,\n",
       "        layout: 'LR',\n",
       "        resizeHeight: true\n",
       "    };\n",
       "\n",
       "    var definition = {\"StartAt\": \"Extract, Transform, Load\", \"States\": {\"Extract, Transform, Load\": {\"Parameters\": {\"JobName.$\": \"$$.Execution.Input['GlueJobName']\", \"Arguments\": {\"--S3_SOURCE\": \"s3://sagemaker-us-west-2-846634201516/ml_deploy/customer-churn.csv\", \"--S3_DEST\": \"s3a://sagemaker-us-west-2-846634201516/ml_deploy/\", \"--TRAIN_KEY\": \"train/\", \"--VAL_KEY\": \"validation/\"}}, \"Resource\": \"arn:aws:states:::glue:startJobRun.sync\", \"Type\": \"Task\", \"Next\": \"Model Training\"}, \"Model Training\": {\"Resource\": \"arn:aws:states:::sagemaker:createTrainingJob.sync\", \"Parameters\": {\"AlgorithmSpecification\": {\"TrainingImage\": \"433757028032.dkr.ecr.us-west-2.amazonaws.com/xgboost:latest\", \"TrainingInputMode\": \"File\"}, \"OutputDataConfig\": {\"S3OutputPath\": \"s3://sagemaker-us-west-2-846634201516/ml_deploy/output\"}, \"StoppingCondition\": {\"MaxRuntimeInSeconds\": 86400}, \"ResourceConfig\": {\"VolumeSizeInGB\": 30, \"InstanceCount\": 1, \"InstanceType\": \"ml.m4.xlarge\"}, \"RoleArn\": \"arn:aws:iam::846634201516:role/AmazonMWAA-SageMaker-Role\", \"InputDataConfig\": [{\"DataSource\": {\"S3DataSource\": {\"S3DataType\": \"S3Prefix\", \"S3Uri\": \"s3://sagemaker-us-west-2-846634201516/ml_deploy/train/\", \"S3DataDistributionType\": \"FullyReplicated\"}}, \"ContentType\": \"text/csv\", \"ChannelName\": \"train\"}, {\"DataSource\": {\"S3DataSource\": {\"S3DataType\": \"S3Prefix\", \"S3Uri\": \"s3://sagemaker-us-west-2-846634201516/ml_deploy/validation/\", \"S3DataDistributionType\": \"FullyReplicated\"}}, \"ContentType\": \"text/csv\", \"ChannelName\": \"validation\"}], \"HyperParameters\": {\"max_depth\": \"5\", \"eta\": \"0.2\", \"gamma\": \"4\", \"min_child_weight\": \"6\", \"subsample\": \"0.8\", \"objective\": \"binary:logistic\", \"eval_metric\": \"error\", \"num_round\": \"100\"}, \"TrainingJobName.$\": \"$$.Execution.Input['TrainingJobName']\", \"DebugHookConfig\": {\"S3OutputPath\": \"s3://sagemaker-us-west-2-846634201516/ml_deploy/output\"}}, \"Type\": \"Task\", \"Next\": \"Save Model\"}, \"Save Model\": {\"ResultPath\": \"$.ModelStepResults\", \"Parameters\": {\"ExecutionRoleArn\": \"arn:aws:iam::846634201516:role/AmazonMWAA-SageMaker-Role\", \"ModelName.$\": \"$$.Execution.Input['ModelName']\", \"PrimaryContainer\": {\"Environment\": {}, \"Image\": \"433757028032.dkr.ecr.us-west-2.amazonaws.com/xgboost:latest\", \"ModelDataUrl.$\": \"$['ModelArtifacts']['S3ModelArtifacts']\"}}, \"Resource\": \"arn:aws:states:::sagemaker:createModel\", \"Type\": \"Task\", \"Next\": \"Query Training Results\"}, \"Query Training Results\": {\"Parameters\": {\"FunctionName.$\": \"$$.Execution.Input['LambdaFunctionName']\", \"Payload\": {\"TrainingJobName.$\": \"$.TrainingJobName\"}}, \"Resource\": \"arn:aws:states:::lambda:invoke\", \"Type\": \"Task\", \"Next\": \"Accuracy > 90%\"}, \"Accuracy > 90%\": {\"Type\": \"Choice\", \"Choices\": [{\"Variable\": \"$['Payload']['trainingMetrics'][0]['Value']\", \"NumericLessThan\": 0.1, \"Next\": \"Create Model Endpoint Config\"}], \"Default\": \"Model Accuracy Too Low\"}, \"Model Accuracy Too Low\": {\"Comment\": \"Validation accuracy lower than threshold\", \"Type\": \"Fail\"}, \"Create Model Endpoint Config\": {\"Resource\": \"arn:aws:states:::sagemaker:createEndpointConfig\", \"Parameters\": {\"EndpointConfigName.$\": \"$$.Execution.Input['ModelName']\", \"ProductionVariants\": [{\"InitialInstanceCount\": 1, \"InstanceType\": \"ml.m4.xlarge\", \"ModelName.$\": \"$$.Execution.Input['ModelName']\", \"VariantName\": \"AllTraffic\"}]}, \"Type\": \"Task\", \"Next\": \"Update Model Endpoint\"}, \"Update Model Endpoint\": {\"Resource\": \"arn:aws:states:::sagemaker:createEndpoint\", \"Parameters\": {\"EndpointConfigName.$\": \"$$.Execution.Input['ModelName']\", \"EndpointName.$\": \"$$.Execution.Input['EndpointName']\"}, \"Type\": \"Task\", \"End\": true}}};\n",
       "    var elementId = '#graph-126';\n",
       "    var events = { 'events': [{\"timestamp\": 1710119487.945, \"type\": \"ExecutionStarted\", \"id\": 1, \"previousEventId\": 0, \"executionStartedEventDetails\": {\"input\": \"{\\n    \\\"TrainingJobName\\\": \\\"regression-1efcdd1db5e74f7d946f01f3ec4fcbaa\\\",\\n    \\\"GlueJobName\\\": \\\"glue-customer-churn-etl-1efcdd1db5e74f7d946f01f3ec4fcbaa\\\",\\n    \\\"ModelName\\\": \\\"CustomerChurn-1efcdd1db5e74f7d946f01f3ec4fcbaa\\\",\\n    \\\"EndpointName\\\": \\\"CustomerChurn\\\",\\n    \\\"LambdaFunctionName\\\": \\\"query-training-status-1efcdd1db5e74f7d946f01f3ec4fcbaa\\\"\\n}\", \"inputDetails\": {\"truncated\": false}, \"roleArn\": \"arn:aws:iam::846634201516:role/MLOpsCourseRole\"}}, {\"timestamp\": 1710119487.983, \"type\": \"TaskStateEntered\", \"id\": 2, \"previousEventId\": 0, \"stateEnteredEventDetails\": {\"name\": \"Extract, Transform, Load\", \"input\": \"{\\n    \\\"TrainingJobName\\\": \\\"regression-1efcdd1db5e74f7d946f01f3ec4fcbaa\\\",\\n    \\\"GlueJobName\\\": \\\"glue-customer-churn-etl-1efcdd1db5e74f7d946f01f3ec4fcbaa\\\",\\n    \\\"ModelName\\\": \\\"CustomerChurn-1efcdd1db5e74f7d946f01f3ec4fcbaa\\\",\\n    \\\"EndpointName\\\": \\\"CustomerChurn\\\",\\n    \\\"LambdaFunctionName\\\": \\\"query-training-status-1efcdd1db5e74f7d946f01f3ec4fcbaa\\\"\\n}\", \"inputDetails\": {\"truncated\": false}}}, {\"timestamp\": 1710119487.983, \"type\": \"TaskScheduled\", \"id\": 3, \"previousEventId\": 2, \"taskScheduledEventDetails\": {\"resourceType\": \"glue\", \"resource\": \"startJobRun.sync\", \"region\": \"us-west-2\", \"parameters\": \"{\\\"Arguments\\\":{\\\"--S3_SOURCE\\\":\\\"s3://sagemaker-us-west-2-846634201516/ml_deploy/customer-churn.csv\\\",\\\"--S3_DEST\\\":\\\"s3a://sagemaker-us-west-2-846634201516/ml_deploy/\\\",\\\"--TRAIN_KEY\\\":\\\"train/\\\",\\\"--VAL_KEY\\\":\\\"validation/\\\"},\\\"JobName\\\":\\\"glue-customer-churn-etl-1efcdd1db5e74f7d946f01f3ec4fcbaa\\\"}\"}}, {\"timestamp\": 1710119488.089, \"type\": \"TaskStarted\", \"id\": 4, \"previousEventId\": 3, \"taskStartedEventDetails\": {\"resourceType\": \"glue\", \"resource\": \"startJobRun.sync\"}}, {\"timestamp\": 1710119488.26, \"type\": \"TaskSubmitted\", \"id\": 5, \"previousEventId\": 4, \"taskSubmittedEventDetails\": {\"resourceType\": \"glue\", \"resource\": \"startJobRun.sync\", \"output\": \"{\\\"JobRunId\\\":\\\"jr_c7279ffd510a171a95bc34e2dcd2b4a46b2d150d088bd6a46cf42a650ce7bed4\\\",\\\"SdkHttpMetadata\\\":{\\\"AllHttpHeaders\\\":{\\\"Connection\\\":[\\\"keep-alive\\\"],\\\"x-amzn-RequestId\\\":[\\\"94d02ffc-a4ee-4d08-906b-dea5ac8df4f2\\\"],\\\"Content-Length\\\":[\\\"82\\\"],\\\"Date\\\":[\\\"Mon, 11 Mar 2024 01:11:28 GMT\\\"],\\\"Content-Type\\\":[\\\"application/x-amz-json-1.1\\\"]},\\\"HttpHeaders\\\":{\\\"Connection\\\":\\\"keep-alive\\\",\\\"Content-Length\\\":\\\"82\\\",\\\"Content-Type\\\":\\\"application/x-amz-json-1.1\\\",\\\"Date\\\":\\\"Mon, 11 Mar 2024 01:11:28 GMT\\\",\\\"x-amzn-RequestId\\\":\\\"94d02ffc-a4ee-4d08-906b-dea5ac8df4f2\\\"},\\\"HttpStatusCode\\\":200},\\\"SdkResponseMetadata\\\":{\\\"RequestId\\\":\\\"94d02ffc-a4ee-4d08-906b-dea5ac8df4f2\\\"},\\\"JobName\\\":\\\"glue-customer-churn-etl-1efcdd1db5e74f7d946f01f3ec4fcbaa\\\"}\", \"outputDetails\": {\"truncated\": false}}}] };\n",
       "\n",
       "    var graph = new sfn.StateMachineExecutionGraph(definition, events, elementId, options);\n",
       "    graph.render();\n",
       "});\n",
       "\n",
       "</script>\n"
      ],
      "text/plain": [
       "<IPython.core.display.HTML object>"
      ]
     },
     "execution_count": 29,
     "metadata": {},
     "output_type": "execute_result"
    }
   ],
   "source": [
    "execution.render_progress()"
   ]
  },
  {
   "cell_type": "code",
   "execution_count": 29,
   "id": "b28ff890",
   "metadata": {},
   "outputs": [
    {
     "data": {
      "text/plain": [
       "[{'timestamp': datetime.datetime(2024, 1, 26, 5, 27, 29, 477000, tzinfo=tzlocal()),\n",
       "  'type': 'ExecutionStarted',\n",
       "  'id': 1,\n",
       "  'previousEventId': 0,\n",
       "  'executionStartedEventDetails': {'input': '{\\n    \"TrainingJobName\": \"regression-672358213b124ad7b7f7af810b8ea8e7\",\\n    \"GlueJobName\": \"glue-customer-churn-etl-672358213b124ad7b7f7af810b8ea8e7\",\\n    \"ModelName\": \"CustomerChurn-672358213b124ad7b7f7af810b8ea8e7\",\\n    \"EndpointName\": \"CustomerChurn\",\\n    \"LambdaFunctionName\": \"query-training-status-672358213b124ad7b7f7af810b8ea8e7\"\\n}',\n",
       "   'inputDetails': {'truncated': False},\n",
       "   'roleArn': 'arn:aws:iam::846634201516:role/MLOpsCourseRole'}},\n",
       " {'timestamp': datetime.datetime(2024, 1, 26, 5, 27, 29, 509000, tzinfo=tzlocal()),\n",
       "  'type': 'TaskStateEntered',\n",
       "  'id': 2,\n",
       "  'previousEventId': 0,\n",
       "  'stateEnteredEventDetails': {'name': 'Extract, Transform, Load',\n",
       "   'input': '{\\n    \"TrainingJobName\": \"regression-672358213b124ad7b7f7af810b8ea8e7\",\\n    \"GlueJobName\": \"glue-customer-churn-etl-672358213b124ad7b7f7af810b8ea8e7\",\\n    \"ModelName\": \"CustomerChurn-672358213b124ad7b7f7af810b8ea8e7\",\\n    \"EndpointName\": \"CustomerChurn\",\\n    \"LambdaFunctionName\": \"query-training-status-672358213b124ad7b7f7af810b8ea8e7\"\\n}',\n",
       "   'inputDetails': {'truncated': False}}},\n",
       " {'timestamp': datetime.datetime(2024, 1, 26, 5, 27, 29, 509000, tzinfo=tzlocal()),\n",
       "  'type': 'TaskScheduled',\n",
       "  'id': 3,\n",
       "  'previousEventId': 2,\n",
       "  'taskScheduledEventDetails': {'resourceType': 'glue',\n",
       "   'resource': 'startJobRun.sync',\n",
       "   'region': 'us-west-2',\n",
       "   'parameters': '{\"Arguments\":{\"--S3_SOURCE\":\"s3://sagemaker-us-west-2-846634201516/ml_deploy/customer-churn.csv\",\"--S3_DEST\":\"s3a://sagemaker-us-west-2-846634201516/ml_deploy/\",\"--TRAIN_KEY\":\"train/\",\"--VAL_KEY\":\"validation/\"},\"JobName\":\"glue-customer-churn-etl-672358213b124ad7b7f7af810b8ea8e7\"}'}},\n",
       " {'timestamp': datetime.datetime(2024, 1, 26, 5, 27, 29, 582000, tzinfo=tzlocal()),\n",
       "  'type': 'TaskStarted',\n",
       "  'id': 4,\n",
       "  'previousEventId': 3,\n",
       "  'taskStartedEventDetails': {'resourceType': 'glue',\n",
       "   'resource': 'startJobRun.sync'}}]"
      ]
     },
     "execution_count": 29,
     "metadata": {},
     "output_type": "execute_result"
    }
   ],
   "source": [
    "execution.list_events()"
   ]
  },
  {
   "cell_type": "code",
   "execution_count": 30,
   "id": "e6013d16",
   "metadata": {},
   "outputs": [
    {
     "data": {
      "text/html": [
       "\n",
       "    <style>\n",
       "        \n",
       "    .table-widget {\n",
       "        width: 100%;\n",
       "        font-size: 14px;\n",
       "        line-height: 28px;\n",
       "        color: #545b64;\n",
       "        border-spacing: 0;\n",
       "        background-color: #fff;\n",
       "        border-color: grey;\n",
       "        background: #fafafa;\n",
       "    }\n",
       "\n",
       "    .table-widget thead th {\n",
       "        text-align: left !important;\n",
       "        color: #879596;\n",
       "        padding: 0.3em 2em;\n",
       "        border-bottom: 1px solid #eaeded;\n",
       "        min-height: 4rem;\n",
       "        line-height: 28px;\n",
       "    }\n",
       "\n",
       "    .table-widget thead th:first-of-type {\n",
       "    }\n",
       "\n",
       "    .table-widget td {\n",
       "        overflow-wrap: break-word;\n",
       "        padding: 0.4em 2em;\n",
       "        line-height: 28px;\n",
       "        text-align: left !important;\n",
       "        background: #fff;\n",
       "        border-bottom: 1px solid #eaeded;\n",
       "        border-top: 1px solid transparent;\n",
       "    }\n",
       "\n",
       "    .table-widget td:before {\n",
       "        content: \"\";\n",
       "        height: 3rem;\n",
       "    }\n",
       "\n",
       "    a {\n",
       "        cursor: pointer;\n",
       "        text-decoration: none !important;\n",
       "        color: #007dbc;\n",
       "    }\n",
       "\n",
       "    a:hover {\n",
       "        text-decoration: underline !important;\n",
       "    }\n",
       "\n",
       "    a.disabled {\n",
       "        color: black;\n",
       "        cursor: default;\n",
       "        pointer-events: none;\n",
       "    }\n",
       "\n",
       "    .hide {\n",
       "        display: none;\n",
       "    }\n",
       "\n",
       "    pre {\n",
       "        white-space: pre-wrap;\n",
       "    }\n",
       "\n",
       "        \n",
       "    * {\n",
       "        box-sizing: border-box;\n",
       "    }\n",
       "\n",
       "    .table-widget {\n",
       "        min-width: 100%;\n",
       "        font-size: 14px;\n",
       "        line-height: 28px;\n",
       "        color: #545b64;\n",
       "        border-spacing: 0;\n",
       "        background-color: #fff;\n",
       "        border-color: grey;\n",
       "        background: #fafafa;\n",
       "    }\n",
       "\n",
       "    .table-widget thead th {\n",
       "        text-align: left !important;\n",
       "        color: #879596;\n",
       "        padding: 0.3em 2em;\n",
       "        border-bottom: 1px solid #eaeded;\n",
       "        min-height: 4rem;\n",
       "        line-height: 28px;\n",
       "    }\n",
       "\n",
       "    .table-widget td {\n",
       "        /* padding: 24px 18px; */\n",
       "        padding: 0.4em 2em;\n",
       "        line-height: 28px;\n",
       "        text-align: left !important;\n",
       "        background: #fff;\n",
       "        border-bottom: 1px solid #eaeded;\n",
       "        border-top: 1px solid transparent;\n",
       "    }\n",
       "\n",
       "    .table-widget td:before {\n",
       "        content: \"\";\n",
       "        height: 3rem;\n",
       "    }\n",
       "\n",
       "    .table-widget .clickable-cell {\n",
       "        cursor: pointer;\n",
       "    }\n",
       "\n",
       "    .hide {\n",
       "        display: none;\n",
       "    }\n",
       "\n",
       "    .triangle-right {\n",
       "        width: 0;\n",
       "        height: 0;\n",
       "        border-top: 5px solid transparent;\n",
       "        border-left: 8px solid #545b64;\n",
       "        border-bottom: 5px solid transparent;\n",
       "        margin-right: 5px;\n",
       "    }\n",
       "\n",
       "    a.awsui {\n",
       "        text-decoration: none !important;\n",
       "        color: #007dbc;\n",
       "    }\n",
       "\n",
       "    a.awsui:hover {\n",
       "        text-decoration: underline !important;\n",
       "    }\n",
       "\n",
       "    </style>\n",
       "    <table class=\"table-widget\">\n",
       "        <thead>\n",
       "            <tr>\n",
       "                <th>Name</th>\n",
       "                <th>Status</th>\n",
       "                <th>Started</th>\n",
       "                <th>End Time</th>\n",
       "            </tr>\n",
       "        </thead>\n",
       "        <tbody>\n",
       "            \n",
       "    <tr class=\"awsui-table-row\">\n",
       "        <td>\n",
       "            <a href=\"https://console.aws.amazon.com/states/home?region=us-west-2#/executions/details/arn:aws:states:us-west-2:846634201516:execution:MyInferenceRoutine_1efcdd1db5e74f7d946f01f3ec4fcbaa:261bd9b5-fac0-4e6e-a9c0-2e8b4b87bd1e\" target=\"_blank\" class=\"awsui\">261bd9b5-fac0-4e6e-a9c0-2e8b4b87bd1e</a>\n",
       "        </td>\n",
       "        <td>RUNNING</td>\n",
       "        <td>Mar 11, 2024 01:11:27.945 AM</td>\n",
       "        <td>-</td>\n",
       "    </tr>\n",
       "\n",
       "        </tbody>\n",
       "    </table>\n"
      ],
      "text/plain": [
       "<IPython.core.display.HTML object>"
      ]
     },
     "execution_count": 30,
     "metadata": {},
     "output_type": "execute_result"
    }
   ],
   "source": [
    "workflow.list_executions(html=True)"
   ]
  },
  {
   "cell_type": "code",
   "execution_count": 31,
   "id": "2b5668a3",
   "metadata": {},
   "outputs": [
    {
     "name": "stdout",
     "output_type": "stream",
     "text": [
      "0.8917055130004883\n"
     ]
    }
   ],
   "source": [
    "# Validate endpoint\n",
    "endpoint_name=\"CustomerChurn\"\n",
    "sagemaker_runtime = boto3.client(\n",
    "    \"sagemaker-runtime\", region_name='us-west-2')\n",
    "\n",
    "response = sagemaker_runtime.invoke_endpoint(\n",
    "    EndpointName=endpoint_name, \n",
    "    ContentType='text/csv',\n",
    "    Body = \"2.0,400.0,0.38571846040122537,2.0,4.177940384158745,0.0,3.745462710628048,250.0,3.699591756294294,1.0,11.0,0.0,0.0,0.0,0.0,0.0,0.0,0.0,0.0,0.0,0.0,0.0,0.0,0.0,0.0,0.0,0.0,0.0,0.0,0.0,0.0,0.0,0.0,0.0,0.0,0.0,0.0,0.0,0.0,0.0,0.0,0.0,0.0,0.0,0.0,0.0,0.0,0.0,0.0,0.0,0.0,0.0,0.0,0.0,0.0,0.0,0.0,0.0,0.0,0.0,0.0,1.0,0.0,0.0,0.0,0.0,0.0,0.0,0.0,0.0,0.0,0.0,0.0,0.0,0.0,0.0,0.0,0.0,0.0,0.0,0.0,0.0,0.0,0.0,0.0,0.0,0.0,0.0,0.0,0.0,0.0,0.0,0.0,0.0,1.0,1.0,0.0,0.0,1.0\"\n",
    ")\n",
    "print(response['Body'].read().decode('utf-8'))"
   ]
  },
  {
   "cell_type": "code",
   "execution_count": null,
   "id": "ddc6bb9a",
   "metadata": {},
   "outputs": [],
   "source": [
    "# Clean up resource, note does not include delete SageMaker endpoint\n",
    "# lambda_client.delete_function(FunctionName=function_name)\n",
    "# glue_client.delete_job(JobName=job_name)\n",
    "# workflow.delete()"
   ]
  },
  {
   "cell_type": "code",
   "execution_count": null,
   "id": "3bc17018",
   "metadata": {},
   "outputs": [],
   "source": []
  }
 ],
 "metadata": {
  "kernelspec": {
   "display_name": "conda_python3",
   "language": "python",
   "name": "conda_python3"
  },
  "language_info": {
   "codemirror_mode": {
    "name": "ipython",
    "version": 3
   },
   "file_extension": ".py",
   "mimetype": "text/x-python",
   "name": "python",
   "nbconvert_exporter": "python",
   "pygments_lexer": "ipython3",
   "version": "3.6.13"
  }
 },
 "nbformat": 4,
 "nbformat_minor": 5
}
